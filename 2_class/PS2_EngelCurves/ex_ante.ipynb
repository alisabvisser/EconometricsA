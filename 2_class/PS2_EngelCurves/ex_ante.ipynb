{
 "cells": [
  {
   "cell_type": "markdown",
   "metadata": {},
   "source": [
    "# Problem Set 2\n"
   ]
  },
  {
   "cell_type": "markdown",
   "metadata": {},
   "source": [
    "## An econometric analysis of Engel curves for U.S. households\n",
    "In problem set 1, we undertook the initial analysis of the data and discussed regression models of Engel curves for food, clothes and alcohol. The objective of this week’s problem set is to estimate a simple regression model of the Engel curve using the OLS estimator.\n",
    "\n",
    "The starting point is a regression model with one explanatory variable. Specifically, let us consider the case where the dependent variable represents food expenditures, while the explanatory variable is total expenditure:\n",
    "\n",
    "\\begin{align}\n",
    "\\text{xfath}_i = \\beta_0 + \\beta_1 \\text{xtot}_i + u_i \\tag{1}\n",
    "\\end{align}\n",
    "\n",
    "In the consumption literature, it is common to use expenditure share, $\\text{xfath}/\\text{xtot}$, as the dependent variable instead of using total food expenditures. Furthermore, the logarithm of total expenditure deflated by an individual ”consumer price index” is often used as the explanatory variable. In this case, the regression model is:\n",
    "\n",
    "\\begin{align}\n",
    "\\frac{\\text{xfath}_i}{\\text{xtot}_i} = \\delta_0 + \\delta_1 \\log \\left(\\frac{\\text{xtot}_i}{\\text{price}_i}\n",
    "\\right) + v_i \\tag{2}\n",
    "\\end{align}"
   ]
  },
  {
   "cell_type": "markdown",
   "metadata": {},
   "source": [
    "\n",
    "## Group work: Discuss model (2)"
   ]
  },
  {
   "cell_type": "markdown",
   "metadata": {},
   "source": [
    "### Question 1\n",
    "**Task:** What is the interpretation of $\\delta_1$ when $%\n",
    "\\delta_1>0$ and $\\delta_1<0$? \n",
    "(Hint: luxury versus necessity goods)\n",
    "\n",
    "**Your answer:**\n",
    "When $\\delta_1>0$ there is a positive realtion between $\\text{xfath}/\\text{xtot}$  and $\\text{xtot}/\\text{price}$ which means the total expenditure of xfath_i increases. In this case we can assume the goods as a luxury.  "
   ]
  },
  {
   "cell_type": "markdown",
   "metadata": {},
   "source": [
    "When $\\delta_1<0$ there is a negative relation between $\\text{xfath}/\\text{xtot}$ and $\\text{xtot}/\\text{price}$ which means the total expenditure of xfath_i decreases. in this case we can assume the goods as necessities."
   ]
  },
  {
   "cell_type": "markdown",
   "metadata": {},
   "source": [
    "### Question 2\n",
    "**Task:** What is likely to be included in the error term in model (2)?\n",
    "(Hint: What other variables may influence the dependent variable, $\\text{xfath}/\\text{xtot}$, besides the explanatory variable?)\n",
    "\n",
    "**Your answer:**"
   ]
  },
  {
   "cell_type": "markdown",
   "metadata": {},
   "source": [
    "Inflation is likely to be included in the errror term"
   ]
  },
  {
   "cell_type": "markdown",
   "metadata": {},
   "source": [
    "\n",
    "## Python exercises"
   ]
  },
  {
   "cell_type": "markdown",
   "metadata": {},
   "source": [
    "### Exercise 1: Estimate model (1)\n",
    "In this exercise, we are going to estimate model (1) **for men only** using OLS:\n",
    "\\begin{align}\n",
    "\\text{xfath}_i = \\beta_0 + \\beta_1 \\text{xtot}_i + u_i \\tag{1}\n",
    "\\end{align}\n",
    "\n",
    "To do this, revisit the lecture notebook and use the `statsmodels` approach described there.\n",
    "\n",
    "\n",
    "\n",
    "---"
   ]
  },
  {
   "cell_type": "markdown",
   "metadata": {},
   "source": [
    "**Task 1.** Load the data from PS2.dta"
   ]
  },
  {
   "cell_type": "markdown",
   "metadata": {},
   "source": [
    "**Your code:**"
   ]
  },
  {
   "cell_type": "code",
   "execution_count": 12,
   "metadata": {},
   "outputs": [
    {
     "data": {
      "text/html": [
       "<div>\n",
       "<style scoped>\n",
       "    .dataframe tbody tr th:only-of-type {\n",
       "        vertical-align: middle;\n",
       "    }\n",
       "\n",
       "    .dataframe tbody tr th {\n",
       "        vertical-align: top;\n",
       "    }\n",
       "\n",
       "    .dataframe thead th {\n",
       "        text-align: right;\n",
       "    }\n",
       "</style>\n",
       "<table border=\"1\" class=\"dataframe\">\n",
       "  <thead>\n",
       "    <tr style=\"text-align: right;\">\n",
       "      <th></th>\n",
       "      <th>year</th>\n",
       "      <th>province</th>\n",
       "      <th>hgy</th>\n",
       "      <th>hage</th>\n",
       "      <th>nety</th>\n",
       "      <th>xfath</th>\n",
       "      <th>xrest</th>\n",
       "      <th>xhhop</th>\n",
       "      <th>xwcloth</th>\n",
       "      <th>xmcloth</th>\n",
       "      <th>...</th>\n",
       "      <th>pcaruse</th>\n",
       "      <th>pcare</th>\n",
       "      <th>stonep</th>\n",
       "      <th>price</th>\n",
       "      <th>rxtot</th>\n",
       "      <th>xtot</th>\n",
       "      <th>wfath</th>\n",
       "      <th>wwcloth</th>\n",
       "      <th>wmcloth</th>\n",
       "      <th>walc</th>\n",
       "    </tr>\n",
       "  </thead>\n",
       "  <tbody>\n",
       "    <tr>\n",
       "      <th>count</th>\n",
       "      <td>450.0</td>\n",
       "      <td>450.000000</td>\n",
       "      <td>450.000000</td>\n",
       "      <td>450.000000</td>\n",
       "      <td>450.000000</td>\n",
       "      <td>450.000000</td>\n",
       "      <td>450.000000</td>\n",
       "      <td>450.000000</td>\n",
       "      <td>450.000000</td>\n",
       "      <td>450.000000</td>\n",
       "      <td>...</td>\n",
       "      <td>450.000000</td>\n",
       "      <td>450.000000</td>\n",
       "      <td>450.000000</td>\n",
       "      <td>450.000000</td>\n",
       "      <td>450.000000</td>\n",
       "      <td>450.000000</td>\n",
       "      <td>450.000000</td>\n",
       "      <td>450.000000</td>\n",
       "      <td>450.000000</td>\n",
       "      <td>450.000000</td>\n",
       "    </tr>\n",
       "    <tr>\n",
       "      <th>mean</th>\n",
       "      <td>92.0</td>\n",
       "      <td>3.064444</td>\n",
       "      <td>35839.031111</td>\n",
       "      <td>33.120000</td>\n",
       "      <td>27921.440000</td>\n",
       "      <td>1998.328889</td>\n",
       "      <td>1687.642222</td>\n",
       "      <td>1229.326667</td>\n",
       "      <td>712.531111</td>\n",
       "      <td>630.480000</td>\n",
       "      <td>...</td>\n",
       "      <td>257.636683</td>\n",
       "      <td>212.313678</td>\n",
       "      <td>5.489010</td>\n",
       "      <td>242.900852</td>\n",
       "      <td>53.155754</td>\n",
       "      <td>12881.333008</td>\n",
       "      <td>0.170123</td>\n",
       "      <td>0.056265</td>\n",
       "      <td>0.045541</td>\n",
       "      <td>0.058739</td>\n",
       "    </tr>\n",
       "    <tr>\n",
       "      <th>std</th>\n",
       "      <td>0.0</td>\n",
       "      <td>1.235275</td>\n",
       "      <td>15131.655642</td>\n",
       "      <td>5.860578</td>\n",
       "      <td>10799.761227</td>\n",
       "      <td>1019.068953</td>\n",
       "      <td>1355.996343</td>\n",
       "      <td>846.317777</td>\n",
       "      <td>1143.473390</td>\n",
       "      <td>875.516614</td>\n",
       "      <td>...</td>\n",
       "      <td>24.525234</td>\n",
       "      <td>10.006629</td>\n",
       "      <td>0.084219</td>\n",
       "      <td>21.427787</td>\n",
       "      <td>19.054399</td>\n",
       "      <td>4650.018066</td>\n",
       "      <td>0.096273</td>\n",
       "      <td>0.078314</td>\n",
       "      <td>0.058148</td>\n",
       "      <td>0.068727</td>\n",
       "    </tr>\n",
       "    <tr>\n",
       "      <th>min</th>\n",
       "      <td>92.0</td>\n",
       "      <td>1.000000</td>\n",
       "      <td>6100.000000</td>\n",
       "      <td>24.000000</td>\n",
       "      <td>6200.000000</td>\n",
       "      <td>216.000000</td>\n",
       "      <td>0.000000</td>\n",
       "      <td>105.000000</td>\n",
       "      <td>0.000000</td>\n",
       "      <td>0.000000</td>\n",
       "      <td>...</td>\n",
       "      <td>228.363876</td>\n",
       "      <td>197.392685</td>\n",
       "      <td>5.355591</td>\n",
       "      <td>211.789062</td>\n",
       "      <td>12.200510</td>\n",
       "      <td>2746.000000</td>\n",
       "      <td>0.014667</td>\n",
       "      <td>0.000000</td>\n",
       "      <td>0.000000</td>\n",
       "      <td>0.000000</td>\n",
       "    </tr>\n",
       "    <tr>\n",
       "      <th>25%</th>\n",
       "      <td>92.0</td>\n",
       "      <td>2.000000</td>\n",
       "      <td>25899.250000</td>\n",
       "      <td>28.000000</td>\n",
       "      <td>20938.750000</td>\n",
       "      <td>1300.000000</td>\n",
       "      <td>625.000000</td>\n",
       "      <td>688.000000</td>\n",
       "      <td>0.000000</td>\n",
       "      <td>0.000000</td>\n",
       "      <td>...</td>\n",
       "      <td>228.363876</td>\n",
       "      <td>203.841293</td>\n",
       "      <td>5.424288</td>\n",
       "      <td>226.849838</td>\n",
       "      <td>40.522092</td>\n",
       "      <td>9761.000000</td>\n",
       "      <td>0.102446</td>\n",
       "      <td>0.000000</td>\n",
       "      <td>0.000000</td>\n",
       "      <td>0.013941</td>\n",
       "    </tr>\n",
       "    <tr>\n",
       "      <th>50%</th>\n",
       "      <td>92.0</td>\n",
       "      <td>3.000000</td>\n",
       "      <td>34156.000000</td>\n",
       "      <td>33.000000</td>\n",
       "      <td>26939.000000</td>\n",
       "      <td>1858.500000</td>\n",
       "      <td>1327.500000</td>\n",
       "      <td>995.000000</td>\n",
       "      <td>0.000000</td>\n",
       "      <td>237.500000</td>\n",
       "      <td>...</td>\n",
       "      <td>272.327911</td>\n",
       "      <td>214.639633</td>\n",
       "      <td>5.475666</td>\n",
       "      <td>238.809387</td>\n",
       "      <td>51.414410</td>\n",
       "      <td>12241.500000</td>\n",
       "      <td>0.148625</td>\n",
       "      <td>0.000000</td>\n",
       "      <td>0.022263</td>\n",
       "      <td>0.035375</td>\n",
       "    </tr>\n",
       "    <tr>\n",
       "      <th>75%</th>\n",
       "      <td>92.0</td>\n",
       "      <td>4.000000</td>\n",
       "      <td>43302.000000</td>\n",
       "      <td>38.000000</td>\n",
       "      <td>33978.000000</td>\n",
       "      <td>2400.000000</td>\n",
       "      <td>2389.750000</td>\n",
       "      <td>1462.500000</td>\n",
       "      <td>1160.000000</td>\n",
       "      <td>1021.250000</td>\n",
       "      <td>...</td>\n",
       "      <td>279.678772</td>\n",
       "      <td>221.057159</td>\n",
       "      <td>5.534693</td>\n",
       "      <td>253.330132</td>\n",
       "      <td>63.332829</td>\n",
       "      <td>15705.250000</td>\n",
       "      <td>0.203715</td>\n",
       "      <td>0.111146</td>\n",
       "      <td>0.074329</td>\n",
       "      <td>0.078246</td>\n",
       "    </tr>\n",
       "    <tr>\n",
       "      <th>max</th>\n",
       "      <td>92.0</td>\n",
       "      <td>5.000000</td>\n",
       "      <td>121000.000000</td>\n",
       "      <td>45.000000</td>\n",
       "      <td>101000.000000</td>\n",
       "      <td>7800.000000</td>\n",
       "      <td>9200.000000</td>\n",
       "      <td>5809.000000</td>\n",
       "      <td>6745.000000</td>\n",
       "      <td>6065.000000</td>\n",
       "      <td>...</td>\n",
       "      <td>284.803314</td>\n",
       "      <td>223.677643</td>\n",
       "      <td>5.874771</td>\n",
       "      <td>355.943024</td>\n",
       "      <td>125.872871</td>\n",
       "      <td>28925.000000</td>\n",
       "      <td>0.613208</td>\n",
       "      <td>0.332583</td>\n",
       "      <td>0.355140</td>\n",
       "      <td>0.354186</td>\n",
       "    </tr>\n",
       "  </tbody>\n",
       "</table>\n",
       "<p>8 rows × 43 columns</p>\n",
       "</div>"
      ],
      "text/plain": [
       "        year    province            hgy        hage           nety  \\\n",
       "count  450.0  450.000000     450.000000  450.000000     450.000000   \n",
       "mean    92.0    3.064444   35839.031111   33.120000   27921.440000   \n",
       "std      0.0    1.235275   15131.655642    5.860578   10799.761227   \n",
       "min     92.0    1.000000    6100.000000   24.000000    6200.000000   \n",
       "25%     92.0    2.000000   25899.250000   28.000000   20938.750000   \n",
       "50%     92.0    3.000000   34156.000000   33.000000   26939.000000   \n",
       "75%     92.0    4.000000   43302.000000   38.000000   33978.000000   \n",
       "max     92.0    5.000000  121000.000000   45.000000  101000.000000   \n",
       "\n",
       "             xfath        xrest        xhhop      xwcloth      xmcloth  ...  \\\n",
       "count   450.000000   450.000000   450.000000   450.000000   450.000000  ...   \n",
       "mean   1998.328889  1687.642222  1229.326667   712.531111   630.480000  ...   \n",
       "std    1019.068953  1355.996343   846.317777  1143.473390   875.516614  ...   \n",
       "min     216.000000     0.000000   105.000000     0.000000     0.000000  ...   \n",
       "25%    1300.000000   625.000000   688.000000     0.000000     0.000000  ...   \n",
       "50%    1858.500000  1327.500000   995.000000     0.000000   237.500000  ...   \n",
       "75%    2400.000000  2389.750000  1462.500000  1160.000000  1021.250000  ...   \n",
       "max    7800.000000  9200.000000  5809.000000  6745.000000  6065.000000  ...   \n",
       "\n",
       "          pcaruse       pcare      stonep       price       rxtot  \\\n",
       "count  450.000000  450.000000  450.000000  450.000000  450.000000   \n",
       "mean   257.636683  212.313678    5.489010  242.900852   53.155754   \n",
       "std     24.525234   10.006629    0.084219   21.427787   19.054399   \n",
       "min    228.363876  197.392685    5.355591  211.789062   12.200510   \n",
       "25%    228.363876  203.841293    5.424288  226.849838   40.522092   \n",
       "50%    272.327911  214.639633    5.475666  238.809387   51.414410   \n",
       "75%    279.678772  221.057159    5.534693  253.330132   63.332829   \n",
       "max    284.803314  223.677643    5.874771  355.943024  125.872871   \n",
       "\n",
       "               xtot       wfath     wwcloth     wmcloth        walc  \n",
       "count    450.000000  450.000000  450.000000  450.000000  450.000000  \n",
       "mean   12881.333008    0.170123    0.056265    0.045541    0.058739  \n",
       "std     4650.018066    0.096273    0.078314    0.058148    0.068727  \n",
       "min     2746.000000    0.014667    0.000000    0.000000    0.000000  \n",
       "25%     9761.000000    0.102446    0.000000    0.000000    0.013941  \n",
       "50%    12241.500000    0.148625    0.000000    0.022263    0.035375  \n",
       "75%    15705.250000    0.203715    0.111146    0.074329    0.078246  \n",
       "max    28925.000000    0.613208    0.332583    0.355140    0.354186  \n",
       "\n",
       "[8 rows x 43 columns]"
      ]
     },
     "metadata": {},
     "output_type": "display_data"
    }
   ],
   "source": [
    "import statsmodels as sm\n",
    "\n",
    "# Load the data\n",
    "df = pd.read_stata('PS2.dta')\n",
    "\n",
    "# Descriptive statistics\n",
    "descriptive_stats = df.describe()\n",
    "\n",
    "# Display the descriptive statistics\n",
    "display(descriptive_stats)\n"
   ]
  },
  {
   "cell_type": "markdown",
   "metadata": {},
   "source": [
    "**Task 2:** Estimate model (1) **for the male participants in the survey** only using the `statsmodels` module as described in lecture."
   ]
  },
  {
   "cell_type": "markdown",
   "metadata": {},
   "source": [
    "**Your code:**"
   ]
  },
  {
   "cell_type": "code",
   "execution_count": 17,
   "metadata": {},
   "outputs": [
    {
     "ename": "ModuleNotFoundError",
     "evalue": "No module named 'mymlr'",
     "output_type": "error",
     "traceback": [
      "\u001b[0;31m---------------------------------------------------------------------------\u001b[0m",
      "\u001b[0;31mModuleNotFoundError\u001b[0m                       Traceback (most recent call last)",
      "Cell \u001b[0;32mIn[17], line 1\u001b[0m\n\u001b[0;32m----> 1\u001b[0m \u001b[39mimport\u001b[39;00m \u001b[39mmymlr\u001b[39;00m \u001b[39mas\u001b[39;00m \u001b[39mmlr\u001b[39;00m \u001b[39m# see mymlr.py\u001b[39;00m\n\u001b[1;32m      2\u001b[0m mlr1 \u001b[39m=\u001b[39m mlr\u001b[39m.\u001b[39mols(df[[\u001b[39m'\u001b[39m\u001b[39mxfath\u001b[39m\u001b[39m'\u001b[39m, \u001b[39m'\u001b[39m\u001b[39mxtot\u001b[39m\u001b[39m'\u001b[39m]], df[\u001b[39m'\u001b[39m\u001b[39mdf.dmale == 1\u001b[39m\u001b[39m'\u001b[39m])\n",
      "\u001b[0;31mModuleNotFoundError\u001b[0m: No module named 'mymlr'"
     ]
    }
   ],
   "source": [
    "\n",
    "mlr1 = mlr.ols(df[['xfath', 'xtot']], df['df.dmale == 1'])"
   ]
  },
  {
   "cell_type": "markdown",
   "metadata": {},
   "source": [
    "\n",
    "**Task 3:** What is the interpretation of the slope $\\beta_1$ and intercept $\\beta_0$ in model (1)? \n"
   ]
  },
  {
   "cell_type": "markdown",
   "metadata": {},
   "source": [
    "**Your answer:**"
   ]
  },
  {
   "cell_type": "markdown",
   "metadata": {},
   "source": []
  },
  {
   "cell_type": "markdown",
   "metadata": {},
   "source": [
    "**Task 4:** What is the estimate of the slope? And the intercept?\n",
    "\n"
   ]
  },
  {
   "cell_type": "markdown",
   "metadata": {},
   "source": [
    "**Your answer:**"
   ]
  },
  {
   "cell_type": "markdown",
   "metadata": {},
   "source": []
  },
  {
   "cell_type": "markdown",
   "metadata": {},
   "source": [
    "**Task 5:** What is the total variation in the dependent variable, SST? The explained variation in the dependent variable, SSE? The variation in the residuals, SSR?\n",
    "\n",
    "_Hint:_ You can calculate these statistics manually using the code from the lecture. Alternatively, you can access the statistics directly as properties of your OLS results object `sm.OLS.fit()`. If you named this object `results`, you can access the SST using `results.centered_tss`, the SSR using `results.ssr` and the SSE using `results.ess`."
   ]
  },
  {
   "cell_type": "markdown",
   "metadata": {},
   "source": [
    "**Your code:**"
   ]
  },
  {
   "cell_type": "code",
   "execution_count": null,
   "metadata": {},
   "outputs": [],
   "source": []
  },
  {
   "cell_type": "markdown",
   "metadata": {},
   "source": [
    "**Your answer:**"
   ]
  },
  {
   "cell_type": "markdown",
   "metadata": {},
   "source": []
  },
  {
   "cell_type": "markdown",
   "metadata": {},
   "source": [
    "**Task 6:** Find the coefficient of determination, $R^2$. How can it be calculated from the three measures from the previous question? How would you interpret the calculated $R^2$?\n"
   ]
  },
  {
   "cell_type": "markdown",
   "metadata": {},
   "source": [
    "**Your answer:**"
   ]
  },
  {
   "cell_type": "markdown",
   "metadata": {},
   "source": []
  },
  {
   "cell_type": "markdown",
   "metadata": {},
   "source": [
    "**Task 7:** What is the estimate of the variance of the error term, $\\hat \\sigma^2$?\n",
    "\n",
    "_Hint:_ use `results.mse_resid` to retrieve the estimated variance of the error term directly from the model object"
   ]
  },
  {
   "cell_type": "markdown",
   "metadata": {},
   "source": [
    "**Your code:**"
   ]
  },
  {
   "cell_type": "code",
   "execution_count": null,
   "metadata": {},
   "outputs": [],
   "source": []
  },
  {
   "cell_type": "markdown",
   "metadata": {},
   "source": [
    "**Your answer:**"
   ]
  },
  {
   "cell_type": "markdown",
   "metadata": {},
   "source": []
  },
  {
   "cell_type": "markdown",
   "metadata": {},
   "source": [
    "### Exercise 2: Illustrate the estimated Engel curve"
   ]
  },
  {
   "cell_type": "markdown",
   "metadata": {},
   "source": [
    "**Task 1:** Illustrate the estimated Engel curve in a graph together with a scatterplot of the actual data observations. \n",
    "\n",
    "_Hints:_ To plot the estimated Engel curve, you need the $\\hat{y}$ values (your estimated xfath values) for each of the observed $x$-values (the xtot values) in the dataset. When plotted together, these $\\hat{y}$ values form the line estimated by OLS.\n",
    "\n",
    "If your OLS results object is called `results` and your observations of xtot are called `X`, you can extract the $\\hat{y}$ values like this:\n",
    "\n",
    "```py\n",
    "y_hat = results.predict(X)\n",
    "```\n",
    "\n",
    "To do a lineplot in Seaborn, use the `sns.lineplot(x, y, data)` method.\n",
    "\n",
    "To layer two plots on top of each other, simply execute two Seaborn commands after one another in a single cell."
   ]
  },
  {
   "cell_type": "markdown",
   "metadata": {},
   "source": [
    "**Your code:**"
   ]
  },
  {
   "cell_type": "code",
   "execution_count": null,
   "metadata": {},
   "outputs": [],
   "source": []
  },
  {
   "cell_type": "markdown",
   "metadata": {},
   "source": [
    "**Task 2:** Perform scatterplots of the residuals from the regression against xtot and the predicted value of food consumption, separately.What shall you expect given the assumptions presented in the lectures? Should you expect the total expediture to correlate with the residuals? \n",
    "\n",
    "_Hint:_\n",
    "You can access the residuals using the `.resid` property of your results object.\n",
    "\n",
    "_Pro tip:_ You can manually change the labels of the y- and x-axis of Seaborn plots by adding `.set(ylabel=\"Residuals\", xlabel=\"xtot\")` to the end of your plot command"
   ]
  },
  {
   "cell_type": "markdown",
   "metadata": {},
   "source": [
    "**Your code:**"
   ]
  },
  {
   "cell_type": "code",
   "execution_count": 1,
   "metadata": {},
   "outputs": [],
   "source": [
    "#Task 2a \n"
   ]
  },
  {
   "cell_type": "code",
   "execution_count": 2,
   "metadata": {},
   "outputs": [],
   "source": [
    "# Task 2b\n"
   ]
  },
  {
   "cell_type": "markdown",
   "metadata": {},
   "source": [
    "Remember the mechanical properties of the OLS estimator: The residuals sum to zero, $E(u)=0$, and are always uncorrelated with the explanatory variables, $E(x|u)=0$"
   ]
  },
  {
   "cell_type": "markdown",
   "metadata": {},
   "source": [
    "### Exercise 2: Estimate model (2)\n",
    "\n",
    "In this exercise, we are going to estimate model (2) for men and women individually:\n",
    "\\begin{align}\n",
    "\\frac{\\text{xfath}_i}{\\text{xtot}_i} = \\delta_0 + \\delta_1 \\log \\left(\\frac{\\text{xtot}_i}{\\text{price}_i}\n",
    "\\right) + v_i \\tag{2}\n",
    "\\end{align}\n"
   ]
  },
  {
   "cell_type": "markdown",
   "metadata": {},
   "source": [
    "**Task 1:** Construct the variables needed to estimate model (2). \n",
    "\n",
    "_Hint:_ The $\\text{price}_i$ variable is included in the dataset under the name `price`.\n"
   ]
  },
  {
   "cell_type": "markdown",
   "metadata": {},
   "source": [
    "**Your code:**"
   ]
  },
  {
   "cell_type": "code",
   "execution_count": null,
   "metadata": {},
   "outputs": [],
   "source": []
  },
  {
   "cell_type": "markdown",
   "metadata": {},
   "source": [
    "**Task 2:** Estimate model (2) by OLS for the budget shares of food, clothing and alcohol for men and women, separately. For each gender and each of the three expenditure categories, print the estimated slope parameters. \n",
    "\n",
    "_Hint_: Write a nested for-loop where you estimate the model and print the parameter estimate for each of the genders and and each of the three dependant variables. \n",
    "\n",
    "To access the individual model parameters, you can use the `.params` property of the results object. For example, if you have an explanatory variable called `log_xtot_adj`, you can access the parameter estimate like this:\n",
    "\n",
    "\n",
    "```py\n",
    "model = sm.OLS(y, X)\n",
    "results = models.fit()\n",
    "delta1 = results.params['log_xtot_adj']\n",
    "```"
   ]
  },
  {
   "cell_type": "markdown",
   "metadata": {},
   "source": [
    "**Your code:**"
   ]
  },
  {
   "cell_type": "code",
   "execution_count": null,
   "metadata": {},
   "outputs": [],
   "source": []
  },
  {
   "cell_type": "markdown",
   "metadata": {},
   "source": [
    "**Task 3:** Interpret the estimation results in light of the discussion on luxury versus necessity goods (see group work). Which parameter is central to the analysis? What conclusions can be drawn on the basis of the analysis?"
   ]
  },
  {
   "cell_type": "markdown",
   "metadata": {},
   "source": [
    "**Your answer:**"
   ]
  },
  {
   "cell_type": "markdown",
   "metadata": {},
   "source": []
  },
  {
   "cell_type": "markdown",
   "metadata": {},
   "source": [
    "## Theoretical exercise\n",
    "Solve the following theoretical exercises (using pen and paper). Estimated time for the exam is 30\n",
    "minutes.\n",
    "\n",
    "**Task 1:**\n",
    "Write up the simple linear regression model (SLR) with a constant term and 1\n",
    "explanatory variable in matrix form for $n$ observations."
   ]
  },
  {
   "cell_type": "markdown",
   "metadata": {},
   "source": [
    "**Task 2:** Write the OLS estimator in matrix form. Show that when one\n",
    "calculates the OLS estimator, then: \n",
    "\\begin{equation*}\n",
    "\\widehat{\\beta }_{0}=\\bar{y}-\\frac{\\sum_{i=1}^{n}(x_{i}-\\bar{x})(y_{i}-\\bar{y%\n",
    "})}{\\sum_{i=1}^{n}(x_{i}-\\bar{x})^{2}}\\bar{x},\\qquad \\widehat{\\beta }_{1}=%\n",
    "\\frac{\\sum_{i=1}^{n}(x_{i}-\\bar{x})(y_{i}-\\bar{y})}{\\sum_{i=1}^{n}(x_{i}-%\n",
    "\\bar{x})^{2}}\n",
    "\\end{equation*}%\n",
    "where $\\bar{x}=\\frac{1}{n}\\sum_{i=1}^{n}x_{i}$ and $\\bar{y}=\\frac{1}{n}%\n",
    "\\sum_{i=1}^{n}y_{i}$.\n",
    "\n",
    "_Hints_: Use the following rule for inverting a matrix: \n",
    "\\begin{equation*}\n",
    "\\left[ \n",
    "\\begin{array}{cc}\n",
    "a & b \\\\ \n",
    "c & d%\n",
    "\\end{array}%\n",
    "\\right] ^{-1}=\\frac{1}{ad-bc}\\left[ \n",
    "\\begin{array}{cc}\n",
    "d & -b \\\\ \n",
    "-c & a%\n",
    "\\end{array}%\n",
    "\\right]\n",
    "\\end{equation*}\n",
    "as well rules (A.7) and (A.8) in Math Refresher A in the textbook.\n"
   ]
  }
 ],
 "metadata": {
  "kernelspec": {
   "display_name": "Python 3 (ipykernel)",
   "language": "python",
   "name": "python3"
  },
  "language_info": {
   "codemirror_mode": {
    "name": "ipython",
    "version": 3
   },
   "file_extension": ".py",
   "mimetype": "text/x-python",
   "name": "python",
   "nbconvert_exporter": "python",
   "pygments_lexer": "ipython3",
   "version": "3.11.7"
  }
 },
 "nbformat": 4,
 "nbformat_minor": 2
}
